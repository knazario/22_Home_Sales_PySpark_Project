{
 "cells": [
  {
   "cell_type": "code",
   "execution_count": 1,
   "metadata": {
    "colab": {
     "base_uri": "https://localhost:8080/"
    },
    "id": "a_KW73O2e3dw",
    "outputId": "fa5fd2b3-e2de-491b-ee1c-405317ba7ebc"
   },
   "outputs": [],
   "source": [
    "# Import findspark and initialize. \n",
    "import findspark\n",
    "findspark.init()"
   ]
  },
  {
   "cell_type": "code",
   "execution_count": 2,
   "metadata": {
    "id": "2XbWNf1Te5fM"
   },
   "outputs": [],
   "source": [
    "# Import packages\n",
    "from pyspark.sql import SparkSession\n",
    "import time\n",
    "\n",
    "# Create a SparkSession\n",
    "spark = SparkSession.builder.appName(\"SparkSQL\").getOrCreate()"
   ]
  },
  {
   "cell_type": "code",
   "execution_count": 8,
   "metadata": {
    "colab": {
     "base_uri": "https://localhost:8080/"
    },
    "id": "wOJqxG_RPSwp",
    "outputId": "7857ef9f-5b04-405d-f5aa-e535dfe7870c"
   },
   "outputs": [
    {
     "name": "stdout",
     "output_type": "stream",
     "text": [
      "+--------------------+----------+----------+------+--------+---------+-----------+--------+------+----------+----+\n",
      "|                  id|      date|date_built| price|bedrooms|bathrooms|sqft_living|sqft_lot|floors|waterfront|view|\n",
      "+--------------------+----------+----------+------+--------+---------+-----------+--------+------+----------+----+\n",
      "|f8a53099-ba1c-47d...|2022-04-08|      2016|936923|       4|        3|       3167|   11733|     2|         1|  76|\n",
      "|7530a2d8-1ae3-451...|2021-06-13|      2013|379628|       2|        2|       2235|   14384|     1|         0|  23|\n",
      "|43de979c-0bf0-4c9...|2019-04-12|      2014|417866|       2|        2|       2127|   10575|     2|         0|   0|\n",
      "|b672c137-b88c-48b...|2019-10-16|      2016|239895|       2|        2|       1631|   11149|     2|         0|   0|\n",
      "|e0726d4d-d595-407...|2022-01-08|      2017|424418|       3|        2|       2249|   13878|     2|         0|   4|\n",
      "|5aa00529-0533-46b...|2019-01-30|      2017|218712|       2|        3|       1965|   14375|     2|         0|   7|\n",
      "|131492a1-72e2-4a8...|2020-02-08|      2017|419199|       2|        3|       2062|    8876|     2|         0|   6|\n",
      "|8d54a71b-c520-44e...|2019-07-21|      2010|323956|       2|        3|       1506|   11816|     1|         0|  25|\n",
      "|e81aacfe-17fe-46b...|2020-06-16|      2016|181925|       3|        3|       2137|   11709|     2|         0|  22|\n",
      "|2ed8d509-7372-46d...|2021-08-06|      2015|258710|       3|        3|       1918|    9666|     1|         0|  25|\n",
      "+--------------------+----------+----------+------+--------+---------+-----------+--------+------+----------+----+\n",
      "only showing top 10 rows\n",
      "\n"
     ]
    }
   ],
   "source": [
    "# 1. Read in the AWS S3 bucket into a DataFrame.\n",
    "from pyspark import SparkFiles\n",
    "url = \"https://2u-data-curriculum-team.s3.amazonaws.com/dataviz-classroom/v1.2/22-big-data/home_sales_revised.csv\"\n",
    "\n",
    "spark.sparkContext.addFile(url)\n",
    "df = spark.read.csv(SparkFiles.get(\"home_sales_revised.csv\"), header=True, inferSchema=True)\n",
    "\n",
    "df.show(10)"
   ]
  },
  {
   "cell_type": "code",
   "execution_count": 9,
   "metadata": {
    "id": "RoljcJ7WPpnm"
   },
   "outputs": [],
   "source": [
    "# 2. Create a temporary view of the DataFrame.\n",
    "df.createOrReplaceTempView('home_sales')\n"
   ]
  },
  {
   "cell_type": "code",
   "execution_count": 22,
   "metadata": {
    "colab": {
     "base_uri": "https://localhost:8080/"
    },
    "id": "L6fkwOeOmqvq",
    "outputId": "bdded620-79c4-488d-c7a5-91c6799c419e"
   },
   "outputs": [
    {
     "name": "stdout",
     "output_type": "stream",
     "text": [
      "+----+-------------+\n",
      "|Year|Average_Price|\n",
      "+----+-------------+\n",
      "|2010|    296800.75|\n",
      "|2011|     302141.9|\n",
      "|2012|    298233.42|\n",
      "|2013|    299999.39|\n",
      "|2014|    299073.89|\n",
      "|2015|    307908.86|\n",
      "|2016|    296050.24|\n",
      "|2017|    296576.69|\n",
      "+----+-------------+\n",
      "\n"
     ]
    }
   ],
   "source": [
    "# 3. What is the average price for a four bedroom house sold per year, rounded to two decimal places?\n",
    "spark.sql(\"\"\"\n",
    "  SELECT date_built AS Year, ROUND(AVG(price),2) AS Average_Price\n",
    "  FROM home_sales\n",
    "  WHERE bedrooms = 4\n",
    "  GROUP BY Year\n",
    "  ORDER BY Year\n",
    "  \"\"\").show()\n"
   ]
  },
  {
   "cell_type": "code",
   "execution_count": 24,
   "metadata": {
    "colab": {
     "base_uri": "https://localhost:8080/"
    },
    "id": "l8p_tUS8h8it",
    "outputId": "65806e5f-6262-41c0-ff65-5107464e5c4d"
   },
   "outputs": [
    {
     "name": "stdout",
     "output_type": "stream",
     "text": [
      "+----+-------------+\n",
      "|Year|Average_Price|\n",
      "+----+-------------+\n",
      "|2010|    292859.62|\n",
      "|2011|    291117.47|\n",
      "|2012|    293683.19|\n",
      "|2013|    295962.27|\n",
      "|2014|    290852.27|\n",
      "|2015|     288770.3|\n",
      "|2016|    290555.07|\n",
      "|2017|    292676.79|\n",
      "+----+-------------+\n",
      "\n"
     ]
    }
   ],
   "source": [
    "# 4. What is the average price of a home for each year the home was built,\n",
    "# that have 3 bedrooms and 3 bathrooms, rounded to two decimal places?\n",
    "spark.sql(\"\"\"\n",
    "  SELECT date_built AS Year, ROUND(AVG(price),2) AS Average_Price\n",
    "  FROM home_sales\n",
    "  WHERE bedrooms = 3 AND bathrooms = 3\n",
    "  GROUP BY Year\n",
    "  ORDER BY Year\n",
    "  \"\"\").show()\n"
   ]
  },
  {
   "cell_type": "code",
   "execution_count": 43,
   "metadata": {
    "colab": {
     "base_uri": "https://localhost:8080/"
    },
    "id": "Y-Eytz64liDU",
    "outputId": "17119810-56ad-40c3-de5e-c3db57e43bcc"
   },
   "outputs": [
    {
     "name": "stdout",
     "output_type": "stream",
     "text": [
      "+----+-------------+--------+\n",
      "|Year|Average_Price|count(1)|\n",
      "+----+-------------+--------+\n",
      "|2010|    285010.22|     176|\n",
      "|2011|    276553.81|     171|\n",
      "|2012|    307539.97|     154|\n",
      "|2013|    303676.79|     160|\n",
      "|2014|    298264.72|     174|\n",
      "|2015|    297609.97|     187|\n",
      "|2016|     293965.1|     172|\n",
      "|2017|    280317.58|     182|\n",
      "+----+-------------+--------+\n",
      "\n"
     ]
    }
   ],
   "source": [
    "# 5. What is the average price of a home for each year the home was built,\n",
    "# that have 3 bedrooms, 3 bathrooms, with two floors,\n",
    "# and are greater than or equal to 2,000 square feet, rounded to two decimal places?\n",
    "spark.sql(\"\"\"\n",
    "  SELECT date_built AS Year, ROUND(AVG(price),2) AS Average_Price, COUNT(*)\n",
    "  FROM home_sales\n",
    "  WHERE bedrooms = 3 AND bathrooms = 3 AND floors = 2 AND sqft_living >= 2000\n",
    "  GROUP BY Year\n",
    "  ORDER BY Year\n",
    "  \"\"\").show()\n"
   ]
  },
  {
   "cell_type": "code",
   "execution_count": 42,
   "metadata": {
    "colab": {
     "base_uri": "https://localhost:8080/"
    },
    "id": "GUrfgOX1pCRd",
    "outputId": "17c25774-855e-4290-a4bd-a04902bdc13a"
   },
   "outputs": [
    {
     "name": "stdout",
     "output_type": "stream",
     "text": [
      "+-----------+-------------+---------+\n",
      "|View_Rating|Average_Price|Num_Homes|\n",
      "+-----------+-------------+---------+\n",
      "|        100|    1026669.5|       28|\n",
      "|         99|   1061201.42|       31|\n",
      "|         98|   1053739.33|       33|\n",
      "|         97|   1129040.15|       27|\n",
      "|         96|   1017815.92|       36|\n",
      "|         95|    1054325.6|       45|\n",
      "|         94|    1033536.2|       50|\n",
      "|         93|   1026006.06|       33|\n",
      "|         92|    970402.55|       42|\n",
      "|         91|   1137372.73|       41|\n",
      "|         90|   1062654.16|       37|\n",
      "|         89|   1107839.15|       40|\n",
      "|         88|   1031719.35|       31|\n",
      "|         87|    1072285.2|       40|\n",
      "|         86|   1070444.25|       44|\n",
      "|         85|   1056336.74|       39|\n",
      "|         84|   1117233.13|       31|\n",
      "|         83|   1033965.93|       40|\n",
      "|         82|    1063498.0|       43|\n",
      "|         81|   1053472.79|       33|\n",
      "+-----------+-------------+---------+\n",
      "only showing top 20 rows\n",
      "\n",
      "--- 0.4312269687652588 seconds ---\n"
     ]
    }
   ],
   "source": [
    "# 6. What is the average price of a home per \"view\" rating, rounded to two decimal places,\n",
    "# having an average home price greater than or equal to $350,000? Order by descending view rating. \n",
    "# Although this is a small dataset, determine the run time for this query.\n",
    "\n",
    "start_time = time.time()\n",
    "spark.sql(\"\"\"\n",
    "  SELECT view AS View_Rating, ROUND(AVG(price),2) AS Average_Price, COUNT(*) AS Num_Homes\n",
    "  FROM home_sales\n",
    "  GROUP BY View_Rating\n",
    "  HAVING AVG(price) >= 350000\n",
    "  ORDER BY View_Rating DESC\n",
    "  \"\"\").show()\n",
    "\n",
    "\n",
    "print(\"--- %s seconds ---\" % (time.time() - start_time))"
   ]
  },
  {
   "cell_type": "code",
   "execution_count": 44,
   "metadata": {
    "colab": {
     "base_uri": "https://localhost:8080/"
    },
    "id": "KAhk3ZD2tFy8",
    "outputId": "0a8f132d-40a8-4bd4-b5f2-2847e98427f5"
   },
   "outputs": [
    {
     "data": {
      "text/plain": [
       "DataFrame[]"
      ]
     },
     "execution_count": 44,
     "metadata": {},
     "output_type": "execute_result"
    }
   ],
   "source": [
    "# 7. Cache the the temporary table home_sales.\n",
    "spark.sql(\"cache table home_sales\")"
   ]
  },
  {
   "cell_type": "code",
   "execution_count": 45,
   "metadata": {
    "colab": {
     "base_uri": "https://localhost:8080/"
    },
    "id": "4opVhbvxtL-i",
    "outputId": "38ec8487-795f-4550-b50c-fcc6f2b7c769"
   },
   "outputs": [
    {
     "data": {
      "text/plain": [
       "True"
      ]
     },
     "execution_count": 45,
     "metadata": {},
     "output_type": "execute_result"
    }
   ],
   "source": [
    "# 8. Check if the table is cached.\n",
    "spark.catalog.isCached('home_sales')"
   ]
  },
  {
   "cell_type": "code",
   "execution_count": 48,
   "metadata": {
    "colab": {
     "base_uri": "https://localhost:8080/"
    },
    "id": "5GnL46lwTSEk",
    "outputId": "09a16c73-194d-4371-95d1-ee64fe83b91c"
   },
   "outputs": [
    {
     "name": "stdout",
     "output_type": "stream",
     "text": [
      "+-----------+-------------+---------+\n",
      "|View_Rating|Average_Price|Num_Homes|\n",
      "+-----------+-------------+---------+\n",
      "|        100|    1026669.5|       28|\n",
      "|         99|   1061201.42|       31|\n",
      "|         98|   1053739.33|       33|\n",
      "|         97|   1129040.15|       27|\n",
      "|         96|   1017815.92|       36|\n",
      "|         95|    1054325.6|       45|\n",
      "|         94|    1033536.2|       50|\n",
      "|         93|   1026006.06|       33|\n",
      "|         92|    970402.55|       42|\n",
      "|         91|   1137372.73|       41|\n",
      "|         90|   1062654.16|       37|\n",
      "|         89|   1107839.15|       40|\n",
      "|         88|   1031719.35|       31|\n",
      "|         87|    1072285.2|       40|\n",
      "|         86|   1070444.25|       44|\n",
      "|         85|   1056336.74|       39|\n",
      "|         84|   1117233.13|       31|\n",
      "|         83|   1033965.93|       40|\n",
      "|         82|    1063498.0|       43|\n",
      "|         81|   1053472.79|       33|\n",
      "+-----------+-------------+---------+\n",
      "only showing top 20 rows\n",
      "\n",
      "--- 0.37000036239624023 seconds ---\n"
     ]
    }
   ],
   "source": [
    "# 9. Using the cached data, run the last query above, that calculates \n",
    "# the average price of a home per \"view\" rating, rounded to two decimal places,\n",
    "# having an average home price greater than or equal to $350,000. \n",
    "# Determine the runtime and compare it to the uncached runtime.\n",
    "\n",
    "start_time = time.time()\n",
    "\n",
    "spark.sql(\"\"\"\n",
    "  SELECT view AS View_Rating, ROUND(AVG(price),2) AS Average_Price, COUNT(*) AS Num_Homes\n",
    "  FROM home_sales\n",
    "  GROUP BY View_Rating\n",
    "  HAVING AVG(price) >= 350000\n",
    "  ORDER BY View_Rating DESC\n",
    "  \"\"\").show()\n",
    "\n",
    "\n",
    "print(\"--- %s seconds ---\" % (time.time() - start_time))\n"
   ]
  },
  {
   "cell_type": "markdown",
   "metadata": {},
   "source": [
    "### NOTE:\n",
    "Slight speed improvement with caching- .43 seconds to .37 seconds "
   ]
  },
  {
   "cell_type": "code",
   "execution_count": 51,
   "metadata": {
    "id": "Qm12WN9isHBR"
   },
   "outputs": [],
   "source": [
    "# 10. Partition by the \"date_built\" field on the formatted parquet home sales data \n",
    "df.write.partitionBy(\"date_built\").mode(\"overwrite\").parquet(\"home_sales_partitioned\")"
   ]
  },
  {
   "cell_type": "code",
   "execution_count": 53,
   "metadata": {
    "id": "AZ7BgY61sRqY"
   },
   "outputs": [],
   "source": [
    "# 11. Read the formatted parquet data.\n",
    "partitioned_df=spark.read.parquet('home_sales_partitioned')"
   ]
  },
  {
   "cell_type": "code",
   "execution_count": 54,
   "metadata": {
    "id": "J6MJkHfvVcvh"
   },
   "outputs": [],
   "source": [
    "# 12. Create a temporary table for the parquet data.\n",
    "partitioned_df.createOrReplaceTempView('home_sales_p')"
   ]
  },
  {
   "cell_type": "code",
   "execution_count": 64,
   "metadata": {
    "colab": {
     "base_uri": "https://localhost:8080/"
    },
    "id": "G_Vhb52rU1Sn",
    "outputId": "a0b8d0c4-55ed-4c6c-bfd8-4c8c5334838e"
   },
   "outputs": [
    {
     "name": "stdout",
     "output_type": "stream",
     "text": [
      "+-----------+-------------+---------+\n",
      "|View_Rating|Average_Price|Num_Homes|\n",
      "+-----------+-------------+---------+\n",
      "|        100|    1026669.5|       28|\n",
      "|         99|   1061201.42|       31|\n",
      "|         98|   1053739.33|       33|\n",
      "|         97|   1129040.15|       27|\n",
      "|         96|   1017815.92|       36|\n",
      "|         95|    1054325.6|       45|\n",
      "|         94|    1033536.2|       50|\n",
      "|         93|   1026006.06|       33|\n",
      "|         92|    970402.55|       42|\n",
      "|         91|   1137372.73|       41|\n",
      "|         90|   1062654.16|       37|\n",
      "|         89|   1107839.15|       40|\n",
      "|         88|   1031719.35|       31|\n",
      "|         87|    1072285.2|       40|\n",
      "|         86|   1070444.25|       44|\n",
      "|         85|   1056336.74|       39|\n",
      "|         84|   1117233.13|       31|\n",
      "|         83|   1033965.93|       40|\n",
      "|         82|    1063498.0|       43|\n",
      "|         81|   1053472.79|       33|\n",
      "+-----------+-------------+---------+\n",
      "only showing top 20 rows\n",
      "\n",
      "--- 0.6492888927459717 seconds ---\n"
     ]
    }
   ],
   "source": [
    "# 13. Using the parquet DataFrame, run the last query above, that calculates \n",
    "# the average price of a home per \"view\" rating, rounded to two decimal places,\n",
    "# having an average home price greater than or equal to $350,000. \n",
    "# Determine the runtime and compare it to the cached runtime.\n",
    "\n",
    "start_time = time.time()\n",
    "spark.sql(\"\"\"\n",
    "  SELECT view AS View_Rating, ROUND(AVG(price),2) AS Average_Price, COUNT(*) AS Num_Homes\n",
    "  FROM home_sales_p\n",
    "  GROUP BY View_Rating\n",
    "  HAVING AVG(price) >= 350000\n",
    "  ORDER BY View_Rating DESC\n",
    "  \"\"\").show()\n",
    "\n",
    "\n",
    "print(\"--- %s seconds ---\" % (time.time() - start_time))"
   ]
  },
  {
   "cell_type": "markdown",
   "metadata": {},
   "source": [
    "### NOTE:\n",
    "Result- .65 seconds </br>\n",
    "Slower when partiioned by date_built, but query is not grouped by date_built. "
   ]
  },
  {
   "cell_type": "code",
   "execution_count": 65,
   "metadata": {
    "colab": {
     "base_uri": "https://localhost:8080/"
    },
    "id": "hjjYzQGjtbq8",
    "outputId": "830549fd-bb41-451b-9183-5ebf6e3e470b"
   },
   "outputs": [
    {
     "data": {
      "text/plain": [
       "DataFrame[]"
      ]
     },
     "execution_count": 65,
     "metadata": {},
     "output_type": "execute_result"
    }
   ],
   "source": [
    "# 14. Uncache the home_sales temporary table.\n",
    "spark.sql(\"uncache table home_sales\")"
   ]
  },
  {
   "cell_type": "code",
   "execution_count": 66,
   "metadata": {
    "colab": {
     "base_uri": "https://localhost:8080/"
    },
    "id": "Sy9NBvO7tlmm",
    "outputId": "be73e0e3-5e85-4794-aad9-025fb6fa84a7"
   },
   "outputs": [
    {
     "data": {
      "text/plain": [
       "False"
      ]
     },
     "execution_count": 66,
     "metadata": {},
     "output_type": "execute_result"
    }
   ],
   "source": [
    "# 15. Check if the home_sales is no longer cached\n",
    "spark.catalog.isCached('home_sales')\n"
   ]
  }
 ],
 "metadata": {
  "colab": {
   "collapsed_sections": [],
   "name": "Copy of Home_Sales_solution.ipynb",
   "provenance": []
  },
  "kernelspec": {
   "display_name": "Python 3 (ipykernel)",
   "language": "python",
   "name": "python3"
  },
  "language_info": {
   "codemirror_mode": {
    "name": "ipython",
    "version": 3
   },
   "file_extension": ".py",
   "mimetype": "text/x-python",
   "name": "python",
   "nbconvert_exporter": "python",
   "pygments_lexer": "ipython3",
   "version": "3.9.18"
  },
  "nteract": {
   "version": "0.28.0"
  }
 },
 "nbformat": 4,
 "nbformat_minor": 1
}
